{
 "cells": [
  {
   "cell_type": "markdown",
   "metadata": {},
   "source": [
    "Part E."
   ]
  },
  {
   "cell_type": "markdown",
   "metadata": {},
   "source": [
    "1. Which of the ff. will return True?\n",
    "a. 5 == 6 => FALSE\n",
    "b. 6%2 >= 0 => TRUE\n",
    "c. 12%2 == 0 or 12%3 == 0 => TRUE\n",
    "d. 42 and False => FALSE\n",
    "e. 105 // 60 == 1 => TRUE"
   ]
  },
  {
   "cell_type": "raw",
   "metadata": {},
   "source": [
    "2. Why is it generally okay to use chained conditionals but nested conditionals are to be avoided if possible?\n",
    "Nested conditionals become harder to read the more complicated the logic becomes, which is why we should avoid them whenever possible."
   ]
  },
  {
   "cell_type": "raw",
   "metadata": {},
   "source": [
    "3. Write a recursive program to print the ff:\n",
    "*****\n",
    "****\n",
    "***\n",
    "**\n",
    "*\n",
    "Blastoff!"
   ]
  },
  {
   "cell_type": "code",
   "execution_count": 26,
   "metadata": {},
   "outputs": [
    {
     "name": "stdout",
     "output_type": "stream",
     "text": [
      "*****\n",
      "****\n",
      "***\n",
      "**\n",
      "*\n",
      "Blastoff!\n"
     ]
    }
   ],
   "source": [
    "def print_star(length):\n",
    "    print('*' * length)\n",
    "    length = length - 1;\n",
    "    if length > 0:\n",
    "        print_star(length)\n",
    "    else:\n",
    "        print('Blastoff!')\n",
    "    \n",
    "print_star(5)"
   ]
  },
  {
   "cell_type": "raw",
   "metadata": {},
   "source": [
    "4. Optional: Solve Chapter 5 Exercise 1. (Homework: Solve Exercise 2)"
   ]
  }
 ],
 "metadata": {
  "kernelspec": {
   "display_name": "Python 3",
   "language": "python",
   "name": "python3"
  },
  "language_info": {
   "codemirror_mode": {
    "name": "ipython",
    "version": 3
   },
   "file_extension": ".py",
   "mimetype": "text/x-python",
   "name": "python",
   "nbconvert_exporter": "python",
   "pygments_lexer": "ipython3",
   "version": "3.6.1"
  }
 },
 "nbformat": 4,
 "nbformat_minor": 2
}
