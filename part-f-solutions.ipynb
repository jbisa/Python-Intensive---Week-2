{
 "cells": [
  {
   "cell_type": "raw",
   "metadata": {},
   "source": [
    "1. What is special about the Python keyword 'return'?\n",
    "\n",
    "The keyword 'return' exits a function immediately and returns to the caller that invoked the function."
   ]
  },
  {
   "cell_type": "raw",
   "metadata": {},
   "source": [
    "2. Write a function absolute_value() that correctly handles the ff. inputs: 1, 5, -10, 0, 4.2, 'bananas'."
   ]
  },
  {
   "cell_type": "code",
   "execution_count": 29,
   "metadata": {},
   "outputs": [
    {
     "name": "stdout",
     "output_type": "stream",
     "text": [
      "Sorry, invalid input!\n"
     ]
    }
   ],
   "source": [
    "def abs_value(input):\n",
    "    if isinstance(input, int) or isinstance(input, float):\n",
    "        print(abs(input))\n",
    "    else:\n",
    "        print('Sorry, invalid input!')\n",
    "\n",
    "abs_value('bananas')"
   ]
  },
  {
   "cell_type": "raw",
   "metadata": {},
   "source": [
    "3. Why is preferable to practice scaffolding and incremental development over working on big chunks of code?\n",
    "\n",
    "Scaffolding and incremental development is a good idae over working on big chunks of code because it allows you to debug issues much easier. If you develop small pieces of code at a time, it's much easier to track down why an error occured, instead of looking through a huge code diff. It also allows you to get some code working, allowing you to refactor and clean up code (making it easier to read) later on once the whole program starts coming together."
   ]
  }
 ],
 "metadata": {
  "kernelspec": {
   "display_name": "Python 3",
   "language": "python",
   "name": "python3"
  },
  "language_info": {
   "codemirror_mode": {
    "name": "ipython",
    "version": 3
   },
   "file_extension": ".py",
   "mimetype": "text/x-python",
   "name": "python",
   "nbconvert_exporter": "python",
   "pygments_lexer": "ipython3",
   "version": "3.6.1"
  }
 },
 "nbformat": 4,
 "nbformat_minor": 2
}
